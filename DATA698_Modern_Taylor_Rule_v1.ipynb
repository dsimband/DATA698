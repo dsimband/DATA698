{
 "cells": [
  {
   "cell_type": "code",
   "execution_count": 42,
   "id": "59178cf1-689e-4b00-8279-b2d4cec08aa4",
   "metadata": {
    "tags": []
   },
   "outputs": [],
   "source": [
    "import pandas as pd\n",
    "import numpy as np\n",
    "\n",
    "from datetime import datetime\n",
    "\n",
    "import matplotlib.pyplot as plt\n",
    "from matplotlib.pyplot import figure\n",
    "import plotly.express as px\n",
    "import plotly.graph_objects as go\n",
    "import seaborn as sns\n",
    "import shap\n",
    "\n",
    "from scipy.stats import randint\n",
    "from scipy.stats import uniform as sp_randFloat\n",
    "from scipy.stats import randint as sp_randInt\n",
    "import scikitplot as skplt\n",
    "import sklearn as sk\n",
    "from sklearn.compose import make_column_transformer, ColumnTransformer\n",
    "from sklearn.model_selection import train_test_split, RandomizedSearchCV\n",
    "from sklearn.model_selection import KFold, cross_val_score, cross_val_predict\n",
    "from sklearn.impute import SimpleImputer\n",
    "from sklearn.preprocessing import StandardScaler, RobustScaler, Normalizer, PowerTransformer, OneHotEncoder\n",
    "from sklearn.pipeline import Pipeline\n",
    "\n",
    "from sklearn.linear_model import LinearRegression, Ridge, Lasso\n",
    "from sklearn.ensemble import GradientBoostingRegressor\n",
    "from sklearn.ensemble import AdaBoostClassifier, RandomForestClassifier\n",
    "from sklearn.neighbors import KNeighborsClassifier\n",
    "import lightgbm as ltb\n",
    "import xgboost as xgb\n",
    "\n",
    "import statsmodels.api as sm\n",
    "import statsmodels\n",
    "\n",
    "from sklearn import metrics\n",
    "from sklearn.metrics import mean_absolute_error, mean_squared_error, r2_score\n",
    "\n",
    "from fredapi import Fred\n",
    "import pandas_datareader as pdr\n",
    "\n",
    "import warnings"
   ]
  },
  {
   "cell_type": "code",
   "execution_count": 43,
   "id": "9e338055-80ec-4b8f-a6e6-534f8d8795ab",
   "metadata": {
    "tags": []
   },
   "outputs": [],
   "source": [
    "sk.set_config(display='diagram')\n",
    "warnings.filterwarnings(\"ignore\")\n"
   ]
  },
  {
   "cell_type": "code",
   "execution_count": 44,
   "id": "6ddd1f78-71b3-4f76-ad53-8ada1824d36e",
   "metadata": {
    "tags": []
   },
   "outputs": [],
   "source": [
    "fred = Fred(api_key='c0a3f23bdd23a65e6546b6d0e5f4d4a5')"
   ]
  },
  {
   "cell_type": "markdown",
   "id": "a33cb19a-ee3c-4052-b98e-3d2562095f4d",
   "metadata": {},
   "source": [
    "# Load Data"
   ]
  },
  {
   "cell_type": "code",
   "execution_count": 45,
   "id": "0a509325-6f98-4280-aafd-5c41d5ff77cb",
   "metadata": {
    "tags": []
   },
   "outputs": [
    {
     "ename": "TypeError",
     "evalue": "descriptor 'date' for 'datetime.datetime' objects doesn't apply to a 'int' object",
     "output_type": "error",
     "traceback": [
      "\u001b[0;31m---------------------------------------------------------------------------\u001b[0m",
      "\u001b[0;31mTypeError\u001b[0m                                 Traceback (most recent call last)",
      "Cell \u001b[0;32mIn[45], line 2\u001b[0m\n\u001b[1;32m      1\u001b[0m \u001b[38;5;66;03m#  Set start date\u001b[39;00m\n\u001b[0;32m----> 2\u001b[0m start_date \u001b[38;5;241m=\u001b[39m \u001b[43mdatetime\u001b[49m\u001b[38;5;241;43m.\u001b[39;49m\u001b[43mdate\u001b[49m\u001b[43m(\u001b[49m\u001b[38;5;241;43m1940\u001b[39;49m\u001b[43m,\u001b[49m\u001b[43m \u001b[49m\u001b[38;5;241;43m1\u001b[39;49m\u001b[43m,\u001b[49m\u001b[43m \u001b[49m\u001b[38;5;241;43m1\u001b[39;49m\u001b[43m)\u001b[49m\n\u001b[1;32m      3\u001b[0m start_date_str \u001b[38;5;241m=\u001b[39m datetime\u001b[38;5;241m.\u001b[39mdatetime\u001b[38;5;241m.\u001b[39mstrftime(start_date, \u001b[38;5;124m\"\u001b[39m\u001b[38;5;124m%\u001b[39m\u001b[38;5;124mY-\u001b[39m\u001b[38;5;124m%\u001b[39m\u001b[38;5;124mm-\u001b[39m\u001b[38;5;132;01m%d\u001b[39;00m\u001b[38;5;124m\"\u001b[39m)\n\u001b[1;32m      5\u001b[0m \u001b[38;5;66;03m#  Federal Reserve Economic Data Service\u001b[39;00m\n",
      "\u001b[0;31mTypeError\u001b[0m: descriptor 'date' for 'datetime.datetime' objects doesn't apply to a 'int' object"
     ]
    }
   ],
   "source": [
    "#  Set start date\n",
    "start_date = datetime.date(1940, 1, 1)\n",
    "start_date_str = datetime.datetime.strftime(start_date, \"%Y-%m-%d\")\n",
    "\n",
    "#  Federal Reserve Economic Data Service\n",
    "data_source = 'fred'\n",
    "unemployment_rate_code = 'UNRATE'\n",
    "cpi_code = 'CORESTICKM157SFRBATL'\n",
    "real_rate_code = 'REAINTRATREARAT1MO'\n",
    "\n",
    "cpi_urban = 'CPIAUCSL'\n",
    "inf_10y = 'T10YIEM'\n",
    "ff_rate_code = 'EFFR'\n",
    "\n",
    "#GDP GAP\n",
    "p_gdp = 'GDPPOT'"
   ]
  },
  {
   "cell_type": "code",
   "execution_count": null,
   "id": "6ef21c04-5cd4-4afe-a52d-f7d68946613d",
   "metadata": {
    "tags": []
   },
   "outputs": [],
   "source": []
  },
  {
   "cell_type": "code",
   "execution_count": null,
   "id": "54f07957-c155-41a1-b879-cf95de4d1332",
   "metadata": {
    "tags": []
   },
   "outputs": [],
   "source": [
    "fred_df = pdr.DataReader(['FEDFUNDS','PCEPILFE','GDPC1','GDPPOT'], data_source, start_date)"
   ]
  },
  {
   "cell_type": "markdown",
   "id": "18cc3d1e-59d7-4641-880b-a9c15b31e73c",
   "metadata": {},
   "source": [
    "# Analysis"
   ]
  },
  {
   "cell_type": "code",
   "execution_count": null,
   "id": "529f7e4a-ecff-40de-ae0f-2a00447c3f78",
   "metadata": {
    "tags": []
   },
   "outputs": [],
   "source": [
    "#t_df = df\n",
    "\n",
    "plt.figure(figsize=(14,6))\n",
    "mask = np.zeros_like(fred_df.corr())\n",
    "mask[np.triu_indices_from(mask)] = True\n",
    "_p = sns.heatmap(fred_df.corr().round(2), annot=True, mask=mask, cmap=\"plasma\")"
   ]
  },
  {
   "cell_type": "markdown",
   "id": "0570495f-7f19-4f89-8f28-6ae8c6480383",
   "metadata": {},
   "source": [
    "# Graph"
   ]
  },
  {
   "cell_type": "code",
   "execution_count": null,
   "id": "119fcbbf-482e-4f2e-bad2-d473827fe2f3",
   "metadata": {
    "tags": []
   },
   "outputs": [],
   "source": [
    "long_df = fred_df.copy()\n",
    "long_df.reset_index(inplace=True)\n",
    "\n",
    "long_df = long_df.melt(id_vars=['DATE'])\n",
    "\n",
    "\n",
    "# Graph\n",
    "g = sns.FacetGrid(long_df, col='variable', hue='variable',\n",
    "                  height=3, aspect=6,col_wrap=1, sharey=False)\n",
    "\n",
    "g.set_titles(col_template=\"{col_name}\", row_template=\"{row_name}\")\n",
    "g.tick_params(axis='x', labelrotation=90) \n",
    "g.tight_layout()\n",
    "g.map_dataframe(sns.lineplot, y=\"value\", x=\"DATE\")\n",
    "\n",
    "plt.show()"
   ]
  },
  {
   "cell_type": "markdown",
   "id": "4382d896-3923-4c9b-8c8d-533e9efa931e",
   "metadata": {
    "tags": []
   },
   "source": [
    "# Taylor\n",
    "The FRED® Blog\n",
    "https://fredblog.stlouisfed.org/2014/04/the-taylor-rule/\n",
    "\n",
    "This graph shows in blue the Taylor Rule, which is a simple formula that John Taylor devised to guide policymakers. It calculates what the federal funds rate should be, as a function of the output gap and current inflation. Here, we measure the output gap as the difference between potential output (published by the Congressional Budget Office) and real GDP. Inflation is measured by changes in the CPI, and we use a target inflation rate of 2%. We also assume a steady-state real interest rate of 2%. These are a lot of assumptions, and you are welcome to change them on the graph by playing around with the formula to see how the Taylor Rule matches up with the effective federal funds rate. To read up on the Taylor Rule, see the original article or an article by former St. Louis Fed president William Poole.\n",
    "\n",
    "How this graph was created: To create a new series from several series, first add the series by modifying the existing series in the “Graph” tab. Once you have assembled them all, expand the series section in the same tab and “create your own transformation.” Finally, as the axis legend has become unwieldy, remove it by checking off the mark in the graph tab.\n",
    "\n",
    "Suggested by: Christian Zimmermann\n",
    "\n",
    "Update: A previous version did not multiply the output gap by 100.\n",
    "\n",
    "View on FRED, series used in this post: FEDFUNDS, GDPC1, GDPDEF, GDPPOT"
   ]
  },
  {
   "cell_type": "markdown",
   "id": "7f8c0086-4aa7-495d-a04c-6f929b19839c",
   "metadata": {},
   "source": [
    "# Fred Calculations"
   ]
  },
  {
   "cell_type": "code",
   "execution_count": null,
   "id": "6336c3d6-d520-48b9-82d6-7f6651eaa87b",
   "metadata": {
    "tags": []
   },
   "outputs": [],
   "source": [
    "base_df = pd.read_csv('./data/fred.csv', parse_dates=['fund_date','taylor_date'])\n",
    "base1_df = base_df[['fund_date','FEDFUNDS']].dropna().copy()\n",
    "base1_df.sort_values(by='fund_date', inplace = True)\n",
    "base2_df = base_df[['taylor_date','GDPPOT_GDPC1_GDPDEF_PC1']].copy()\n",
    "base2_df.sort_values(by='taylor_date', inplace = True)"
   ]
  },
  {
   "cell_type": "code",
   "execution_count": null,
   "id": "406a8abd-6fd5-4f97-806e-b1b59299f5dd",
   "metadata": {
    "tags": []
   },
   "outputs": [],
   "source": [
    "# Graph\n",
    "fig, ax = plt.subplots(figsize=(20,8))\n",
    "ax.xaxis.grid()\n",
    "\n",
    "# Plot\n",
    "ax.plot(base2_df['taylor_date'], base2_df['GDPPOT_GDPC1_GDPDEF_PC1'], 'blue')\n",
    "ax.plot(base1_df['fund_date'], base1_df['FEDFUNDS'], linestyle='--', color='red',linewidth=2)\n",
    "\n",
    "plt.axhline(y=0, linestyle=\"dashed\", color='lightgray')\n",
    "\n",
    "ax.set(title='Fed Effective Funds Rate Prediction');"
   ]
  },
  {
   "cell_type": "markdown",
   "id": "52c825da-2a50-411c-803e-42bb17889456",
   "metadata": {},
   "source": [
    "## Calculation 1"
   ]
  },
  {
   "cell_type": "code",
   "execution_count": null,
   "id": "44128614-470a-4c90-b31a-ec4be3f1853e",
   "metadata": {
    "tags": []
   },
   "outputs": [],
   "source": [
    "gdpc1_df = pd.read_csv('./data/GDPC1.csv', parse_dates=['observation_date'], skiprows=10)\n",
    "print('gdpc1_df:', gdpc1_df.shape)\n",
    "gdppot_df = pd.read_csv('./data/GDPPOT.csv', parse_dates=['observation_date'], skiprows=10)\n",
    "print('gdppot_df:', gdppot_df.shape)\n",
    "gdpdef_df = pd.read_csv('./data/GDPDEF.csv', parse_dates=['observation_date'], skiprows=10)\n",
    "print('gdpdef_df:', gdpdef_df.shape)\n",
    "fed_df = pd.read_csv('./data/FEDFUNDS.csv', parse_dates=['observation_date'], skiprows=10)\n",
    "print('fed_df:', fed_df.shape)"
   ]
  },
  {
   "cell_type": "code",
   "execution_count": null,
   "id": "4f1cd4ad-f646-4cda-a758-f9d685afcf9f",
   "metadata": {
    "tags": []
   },
   "outputs": [],
   "source": [
    "taylor_df = gdpc1_df.merge(gdppot_df, how='outer', left_on='observation_date', right_on='observation_date')   \\\n",
    "                    .merge(gdpdef_df, how='outer', left_on='observation_date', right_on='observation_date')   \\\n",
    "                    .merge(fed_df, how='outer', left_on='observation_date', right_on='observation_date')\n",
    "    \n",
    "taylor_df.dropna(inplace=True)\n",
    "taylor_df"
   ]
  },
  {
   "cell_type": "code",
   "execution_count": null,
   "id": "27c49782-4079-4901-a712-a02b2bc3f103",
   "metadata": {
    "tags": []
   },
   "outputs": [],
   "source": [
    "# Long \n",
    "long_df = taylor_df.melt(id_vars=['observation_date'])\n",
    "print('long_df:', long_df.shape)\n",
    "\n",
    "# Graph\n",
    "fig, ax = plt.subplots(figsize=(20,8))\n",
    "ax.xaxis.grid()\n",
    "\n",
    "# Plot\n",
    "#ax.plot(long_df['observation_date'], long_df['value'], color='variable')\n",
    "sns.lineplot(x = 'observation_date', y = 'value', data=long_df, hue='variable')\n",
    "\n",
    "ax.set(title='Fed Effective Funds Rate Prediction');"
   ]
  },
  {
   "cell_type": "code",
   "execution_count": null,
   "id": "e1f957a1-8b3d-4b3b-96e7-1d4438b918ab",
   "metadata": {
    "tags": []
   },
   "outputs": [],
   "source": [
    "#taylor_df = pd.DataFrame()\n",
    "taylor_df['ffef_tr'] = taylor_df['GDPDEF_PC1'] + 2    \\\n",
    "                        +0.5*(taylor_df['GDPDEF_PC1'] - 2)    \\\n",
    "                        +0.5*(taylor_df['GDPC1'] - taylor_df['GDPPOT']) / taylor_df['GDPPOT'] * 100\n",
    "\n",
    "taylor_df['gap_inf'] = 0.5*(taylor_df['GDPDEF_PC1'] - 2) \n",
    "taylor_df['gap_gdp'] = 0.5*(taylor_df['GDPC1'] - taylor_df['GDPPOT']) / taylor_df['GDPPOT'] * 100\n",
    "\n",
    "taylor_df.tail(10)"
   ]
  },
  {
   "cell_type": "code",
   "execution_count": null,
   "id": "2a764011-a56a-4af9-b64b-8ebda08c6daa",
   "metadata": {
    "tags": []
   },
   "outputs": [],
   "source": [
    "# Graph\n",
    "fig, ax = plt.subplots(figsize=(20,8))\n",
    "ax.xaxis.grid()\n",
    "\n",
    "# Plot\n",
    "ax.plot(taylor_df['observation_date'], taylor_df['ffef_tr'], 'blue')\n",
    "ax.plot(taylor_df['observation_date'], taylor_df['FEDFUNDS'], linestyle='--', color='red',linewidth=2)\n",
    "\n",
    "ax.set(title='Fed Effective Funds Rate Prediction');"
   ]
  },
  {
   "cell_type": "code",
   "execution_count": null,
   "id": "7ffdbb3a-00a4-4359-952b-b44949f71d79",
   "metadata": {
    "tags": []
   },
   "outputs": [],
   "source": [
    "long_df = taylor_df[['observation_date','gap_inf','gap_gdp']].melt(id_vars=['observation_date'])\n",
    "\n",
    "# Graph\n",
    "fig, ax = plt.subplots(figsize=(20,8))\n",
    "ax.xaxis.grid()\n",
    "\n",
    "# Plot\n",
    "sns.lineplot(data=long_df, x = 'observation_date', y = 'value', hue='variable')\n",
    "ax.plot(taylor_df['observation_date'], taylor_df['FEDFUNDS'], linestyle='--', color='red',linewidth=2)\n",
    "\n",
    "plt.axhline(y=0, linestyle=\"dashed\", color='lightgray')\n",
    "\n",
    "ax.set(title='Fed Effective Funds Rate Prediction');"
   ]
  },
  {
   "cell_type": "code",
   "execution_count": null,
   "id": "646db56e-c124-4acb-89c1-dfec76e0ea24",
   "metadata": {},
   "outputs": [],
   "source": []
  },
  {
   "cell_type": "markdown",
   "id": "03670bb1-e49a-4155-9fc8-2c450536a913",
   "metadata": {},
   "source": [
    "# Taylor Rule"
   ]
  },
  {
   "cell_type": "markdown",
   "id": "182611a7-48d0-4310-82a6-4d9b4c8af780",
   "metadata": {},
   "source": [
    "<b> Variables </b>\n",
    "- nominal funds rate - FEDFUNDS\n",
    "- real interest rate - REAINTRATREARAT1MO\n",
    "- inflation - CPIAUCSL\n",
    "- real gpd - real\n",
    "- target = 0.02\n",
    "\n",
    "#  Federal Reserve Economic Data Service\n",
    "data_source = 'fred'\n",
    "unemployment_rate_code = 'UNRATE'\n",
    "cpi_code = 'CORESTICKM157SFRBATL'\n",
    "real_rate_code = 'REAINTRATREARAT1MO'\n",
    "\n",
    "cpi_urban = 'CPIAUCSL'\n",
    "inf_10y = 'T10YIEM'\n",
    "ff_rate_code = 'EFFR'\n",
    "\n",
    "#GDP GAP\n",
    "p_gdp = 'GDPPOT'"
   ]
  },
  {
   "cell_type": "code",
   "execution_count": null,
   "id": "530ff6ee-a043-4dea-91d9-cac5b7008d89",
   "metadata": {},
   "outputs": [],
   "source": [
    "t1_df = pdr.DataReader(['FEDFUNDS','REAINTRATREARAT1MO','CORESTICKM157SFRBATL','GDPC1','GDPPOT'], data_source, start_date)\n",
    "#t1_df.dropna(inplace=True)\n",
    "print('t1_df:', t1_df.shape)\n",
    "t1_df.head(5)"
   ]
  },
  {
   "cell_type": "code",
   "execution_count": null,
   "id": "dd6f9b7a-60c8-4ce8-83fa-3e3654670631",
   "metadata": {
    "tags": []
   },
   "outputs": [],
   "source": [
    "t2_df = pd.read_csv('./data/Holston_Laubach_Williams_real_time_estimates.csv', parse_dates=['Date'], skiprows=5)\n",
    "t2_df.set_index('Date', inplace=True)\n",
    "print('t2_df:', t2_df.shape)\n",
    "t2_df.head(5)"
   ]
  },
  {
   "cell_type": "code",
   "execution_count": null,
   "id": "4945261e-a6ad-48fd-a747-68bbf31654f9",
   "metadata": {
    "tags": []
   },
   "outputs": [],
   "source": [
    "f1_df = t1_df.merge(t2_df, how='outer', left_index=True, right_index=True)\n",
    "f1_df.dropna(inplace=True)\n",
    "f1_df.index.rename('Date', inplace=True)\n",
    "f1_df.head()"
   ]
  },
  {
   "cell_type": "code",
   "execution_count": null,
   "id": "ee3b8520-e10e-4099-9bad-bd89a337a159",
   "metadata": {},
   "outputs": [],
   "source": [
    "target_inf = 2\n",
    "alpha = 0.5\n",
    "beta = 0.5"
   ]
  },
  {
   "cell_type": "code",
   "execution_count": null,
   "id": "3240c339-67de-4233-9494-b4689fb4ccb7",
   "metadata": {
    "tags": []
   },
   "outputs": [],
   "source": [
    "f1_df['gap_gdp'] = alpha * (f1_df['GDPC1'] - f1_df['GDPPOT']) / f1_df['GDPPOT'] * 100\n",
    "f1_df['gap_inf'] = beta * (f1_df['CORESTICKM157SFRBATL'] - target_inf)\n",
    "\n",
    "f1_df['ffef_tr'] = f1_df['Real_Interest_Rate']  \\\n",
    "                        + f1_df['CORESTICKM157SFRBATL']  \\\n",
    "                        + f1_df['gap_gdp']  \\\n",
    "                        + f1_df['gap_inf']\n",
    "\n",
    "f1_df.head()"
   ]
  },
  {
   "cell_type": "code",
   "execution_count": null,
   "id": "57d0cd13-61e2-455c-b0f1-27044a8baab1",
   "metadata": {
    "tags": []
   },
   "outputs": [],
   "source": [
    "long_df = f1_df.copy()\n",
    "long_df.reset_index(inplace=True)\n",
    "long_df = long_df[['Date','FEDFUNDS','ffef_tr']].melt(id_vars=['Date'])\n",
    "\n",
    "# Graph\n",
    "fig, ax = plt.subplots(figsize=(20,8))\n",
    "ax.xaxis.grid()\n",
    "\n",
    "# Plot\n",
    "sns.lineplot(data=long_df, x = 'Date', y = 'value', hue='variable')\n",
    "#ax.plot(taylor_df['observation_date'], taylor_df['FEDFUNDS'], linestyle='--', color='red',linewidth=2)\n",
    "\n",
    "ax.set(title='Fed Effective Funds Rate Prediction');"
   ]
  },
  {
   "cell_type": "code",
   "execution_count": null,
   "id": "77a023e5-6e5f-48af-b9d8-678e6fd9ede8",
   "metadata": {
    "tags": []
   },
   "outputs": [],
   "source": [
    "long_df = f1_df.copy()\n",
    "long_df.reset_index(inplace=True)\n",
    "long_df = long_df[['Date','gap_gdp','Output_Gap']].melt(id_vars=['Date'])\n",
    "\n",
    "# Graph\n",
    "fig, ax = plt.subplots(figsize=(20,8))\n",
    "ax.xaxis.grid()\n",
    "\n",
    "# Plot\n",
    "sns.lineplot(data=long_df, x = 'Date', y = 'value', hue='variable')\n",
    "#ax.plot(taylor_df['observation_date'], taylor_df['FEDFUNDS'], linestyle='--', color='red',linewidth=2)\n",
    "\n",
    "ax.set(title='Fed Effective Funds Rate Prediction');"
   ]
  },
  {
   "cell_type": "markdown",
   "id": "c645c21d-6583-467a-bd9e-be38d480bd6c",
   "metadata": {},
   "source": [
    "## Taylor 2"
   ]
  },
  {
   "cell_type": "code",
   "execution_count": null,
   "id": "fbe7e38c-0d4b-4665-9dec-6bded6c54e04",
   "metadata": {
    "tags": []
   },
   "outputs": [],
   "source": [
    "p_smooth = 0.85\n",
    "\n",
    "p_inf = 0.5\n",
    "target_inf = 2\n",
    "\n",
    "p_unemp = 0.5\n",
    "target_unemp = 5"
   ]
  },
  {
   "cell_type": "code",
   "execution_count": null,
   "id": "ac97a3af-3bdf-4cab-9da2-a58173635e49",
   "metadata": {
    "tags": []
   },
   "outputs": [],
   "source": [
    "t0_df = pdr.DataReader(['DFEDTARU','DFEDTARL','DFEDTAR'], data_source, start_date)\n",
    "t0_df['DFEDTAR'] = np.where(t0_df['DFEDTAR'].isnull(), t0_df[['DFEDTARU', 'DFEDTARL']].mean(axis=1), t0_df['DFEDTAR'])\n",
    "t0_df = t0_df[['DFEDTAR']]\n",
    "print('t0_df:', t0_df.shape)\n",
    "t0_df.head(5)"
   ]
  },
  {
   "cell_type": "code",
   "execution_count": null,
   "id": "24d42a63-2114-4e71-9cd3-96ea257578ca",
   "metadata": {
    "tags": []
   },
   "outputs": [],
   "source": [
    "t1_df = pdr.DataReader(['FEDFUNDS','CORESTICKM157SFRBATL','UNRATE'], data_source, start_date)\n",
    "#t1_df.dropna(inplace=True)\n",
    "print('t1_df:', t1_df.shape)\n",
    "t1_df.head(5)"
   ]
  },
  {
   "cell_type": "code",
   "execution_count": null,
   "id": "899c4ce0-bde3-4a45-a28e-4e898bb26cfa",
   "metadata": {
    "tags": []
   },
   "outputs": [],
   "source": [
    "t2_df = pd.read_csv('./data/Holston_Laubach_Williams_real_time_estimates.csv', parse_dates=['Date'], skiprows=5)\n",
    "t2_df.set_index('Date', inplace=True)\n",
    "print('t2_df:', t2_df.shape)\n",
    "t2_df.head(5)"
   ]
  },
  {
   "cell_type": "code",
   "execution_count": null,
   "id": "abf1bfe9-6057-4596-acab-6a16bad695d5",
   "metadata": {
    "tags": []
   },
   "outputs": [],
   "source": [
    "f2_df = t1_df.merge(t2_df, how='outer', left_index=True, right_index=True)   \\\n",
    "                .merge(t0_df, how='outer', left_index=True, right_index=True)\n",
    "\n",
    "f2_df.dropna(inplace=True)\n",
    "f2_df.index.rename('Date', inplace=True)\n",
    "f2_df['DFEDTAR_t-1'] = f2_df['DFEDTAR'].shift(periods=1)\n",
    "f2_df.dropna(inplace=True)\n",
    "f2_df.head()"
   ]
  },
  {
   "cell_type": "code",
   "execution_count": null,
   "id": "0e807e8f-beb5-45c2-80a2-9f56ebb10e1e",
   "metadata": {},
   "outputs": [],
   "source": [
    "f2_df['gap_unemp'] = p_unemp * (f1_df['GDPC1'] - f2_df['GDPPOT']) / f2_df['GDPPOT'] * 100\n",
    "f2_df['gap_inf'] = p_inf * (f2_df['CORESTICKM157SFRBATL'] - target_inf)\n",
    "\n",
    "\n",
    "f2_df['ffef_tr'] = p_smooth * f2_df['DFEDTAR_t-1']    \\\n",
    "                    + (1 - p_smooth)    \\\n",
    "                    * f2_df['Real_Interest_Rate'] \n",
    "\n",
    "\n",
    "f2_df['ffef_tr'] = f2_df['Real_Interest_Rate']  \\\n",
    "                        + f1_df['CORESTICKM157SFRBATL']  \\\n",
    "                        + f1_df['gap_gdp']  \\\n",
    "                        + f1_df['gap_inf']\n",
    "\n",
    "f2_df.head()"
   ]
  },
  {
   "cell_type": "code",
   "execution_count": null,
   "id": "4bcc65e9-e2c2-46ce-a4c3-d6b9b69e1f96",
   "metadata": {},
   "outputs": [],
   "source": []
  },
  {
   "cell_type": "code",
   "execution_count": null,
   "id": "67f21ccd-5395-4f0e-9800-a54db48e8b0c",
   "metadata": {},
   "outputs": [],
   "source": []
  },
  {
   "cell_type": "code",
   "execution_count": null,
   "id": "1b7fa544-7dab-46fd-b1f4-4f6ab1de0a13",
   "metadata": {
    "tags": []
   },
   "outputs": [],
   "source": [
    "t01_df = pdr.DataReader(['DFEDTARU','DFEDTARL','DFEDTAR'], data_source, start_date)\n",
    "t01_df['DFEDTAR'] = np.where(t01_df['DFEDTAR'].isnull(), t01_df[['DFEDTARU', 'DFEDTARL']].mean(axis=1), t01_df['DFEDTAR'])\n",
    "t01_df = t01_df[['DFEDTAR']]\n",
    "t01_df.tail(30)"
   ]
  },
  {
   "cell_type": "code",
   "execution_count": null,
   "id": "7a0c921a-b60b-4441-9d44-8cfc3c2b18c6",
   "metadata": {},
   "outputs": [],
   "source": []
  },
  {
   "cell_type": "code",
   "execution_count": null,
   "id": "e53e7bdd-b0e3-4cb7-bdfe-cbe11c49da27",
   "metadata": {},
   "outputs": [],
   "source": []
  }
 ],
 "metadata": {
  "kernelspec": {
   "display_name": "Python 3 (ipykernel)",
   "language": "python",
   "name": "python3"
  },
  "language_info": {
   "codemirror_mode": {
    "name": "ipython",
    "version": 3
   },
   "file_extension": ".py",
   "mimetype": "text/x-python",
   "name": "python",
   "nbconvert_exporter": "python",
   "pygments_lexer": "ipython3",
   "version": "3.10.12"
  }
 },
 "nbformat": 4,
 "nbformat_minor": 5
}
